{
 "cells": [
  {
   "cell_type": "markdown",
   "metadata": {},
   "source": [
    "                                            Assignment Numpy"
   ]
  },
  {
   "cell_type": "markdown",
   "metadata": {},
   "source": [
    "Theoretical Questions:"
   ]
  },
  {
   "cell_type": "markdown",
   "metadata": {},
   "source": [
    " 1. Explain the purpose and advantages of NumPy in scientific computing and data analysis. How does it enhance Python's capabilities for numerical operations?\n",
    "\n",
    " Ans: NumPy, which stands for Numerical Python, is a fundamental package for scientific computing and data analysis in Python. Its main purpose is to provide a powerful N-dimensional array object and tools for working with these arrays efficiently. Here are some key advantages and enhancements that NumPy brings to Python for numerical operations:\n",
    "\n",
    "### Purpose of NumPy\n",
    "1. **N-dimensional Arrays**: NumPy introduces the `ndarray` object, a fast and flexible container for large datasets in Python. This allows for multi-dimensional data representation (1D, 2D, 3D, etc.), which is crucial for scientific applications.\n",
    "\n",
    "2. **Numerical Computing**: It provides a comprehensive set of mathematical functions and operations that allow for efficient numerical computations, such as linear algebra, Fourier transforms, and random number generation.\n",
    "\n",
    "3. **Interoperability**: NumPy arrays can interact seamlessly with other libraries and tools in the scientific computing ecosystem, including SciPy, pandas, and matplotlib, making it a foundational library for many scientific applications.\n",
    "\n",
    "### Advantages of NumPy\n",
    "1. **Performance**: NumPy is implemented in C and Fortran, enabling it to execute operations at much higher speeds than native Python lists, particularly for large datasets. This is due to its optimized performance for array operations, which can often be executed in a vectorized manner.\n",
    "\n",
    "2. **Memory Efficiency**: NumPy arrays consume less memory compared to traditional Python lists because they store elements of the same data type, allowing for more efficient data storage.\n",
    "\n",
    "3. **Broadcasting**: NumPy supports broadcasting, a powerful mechanism that allows arithmetic operations on arrays of different shapes and sizes, simplifying code and improving performance.\n",
    "\n",
    "4. **Rich Functionality**: NumPy includes a wide range of mathematical functions, such as statistical functions, linear algebra routines, and capabilities for Fourier transforms, making it a versatile tool for data analysis.\n",
    "\n",
    "5. **Ease of Use**: NumPy provides a user-friendly interface for numerical operations, allowing users to write clear and concise code for complex mathematical computations.\n",
    "\n",
    "6. **Integration**: NumPy integrates well with C/C++ and Fortran code, enabling the inclusion of optimized routines from other programming languages, which can be beneficial for performance-critical applications.\n",
    "\n",
    "### Enhancements to Python's Capabilities\n",
    "- **Vectorization**: NumPy allows for element-wise operations on arrays without the need for explicit loops, significantly speeding up computations and improving code readability.\n",
    "- **Advanced Indexing and Slicing**: It provides sophisticated techniques for accessing and manipulating array data, enabling more complex data analysis tasks.\n",
    "- **Data Manipulation**: With tools for reshaping, joining, and splitting arrays, NumPy simplifies data preprocessing steps essential for analysis.\n",
    "\n",
    "Overall, NumPy enhances Python's capabilities for numerical operations, making it an essential library for scientists, engineers, and data analysts who require high-performance computing and data manipulation tools."
   ]
  },
  {
   "cell_type": "markdown",
   "metadata": {},
   "source": [
    "2. Compare and contrast np.mean() and np.average() functions in NumPy. When would you use one over the other?\n",
    "\n",
    "Ans: The np.mean() and np.average() functions in NumPy are both used to compute averages, but they have different functionalities and use cases. Here’s a comparison:\n",
    "\n",
    "np.mean()\n",
    "Purpose: Computes the arithmetic mean (average) of array elements along a specified axis.\n",
    "Syntax: np.mean(a, axis=None, dtype=None, out=None, keepdims=False)\n",
    "Behavior:\n",
    "Takes an array as input and returns the mean of the values along the specified axis.\n",
    "Does not support weighting; all elements are treated equally.\n",
    "Example:"
   ]
  },
  {
   "cell_type": "code",
   "execution_count": null,
   "metadata": {},
   "outputs": [],
   "source": [
    "import numpy as np\n",
    "\n",
    "data = np.array([1, 2, 3, 4])\n",
    "mean_value = np.mean(data)  # Output: 2.5\n"
   ]
  },
  {
   "cell_type": "markdown",
   "metadata": {},
   "source": [
    "np.average()\n",
    "Purpose: Computes the weighted average of array elements. If no weights are provided, it behaves like np.mean().\n",
    "Syntax: np.average(a, axis=None, weights=None, returned=False)\n",
    "Behavior:\n",
    "Can take an optional weights parameter, allowing for the computation of a weighted average.\n",
    "If weights are provided, they should be the same shape as the input array or broadcastable to it.\n",
    "Example:"
   ]
  },
  {
   "cell_type": "code",
   "execution_count": null,
   "metadata": {},
   "outputs": [],
   "source": [
    "data = np.array([1, 2, 3, 4])\n",
    "weights = np.array([0.1, 0.2, 0.3, 0.4])\n",
    "weighted_average = np.average(data, weights=weights)  # Output: 3.0\n"
   ]
  },
  {
   "cell_type": "markdown",
   "metadata": {},
   "source": [
    "When to Use Each\n",
    "Use np.mean():\n",
    "\n",
    "When you need a simple average of the data without any weights.\n",
    "When you want a concise and straightforward function for computing the mean.\n",
    "Use np.average():\n",
    "\n",
    "When you require a weighted average, where some elements contribute more to the average than others.\n",
    "When you want to leverage the functionality for specifying weights in your calculations.\n",
    "Summary\n",
    "In essence, use np.mean() for standard average calculations and np.average() when you need to account for the importance of certain elements through weighting.\n",
    "\n",
    "\n",
    "\n"
   ]
  },
  {
   "cell_type": "markdown",
   "metadata": {},
   "source": [
    " 3. Describe the methods for reversing a NumPy array along different axes. Provide examples for 1D and 2D arrays.\n",
    "\n",
    "Ans: Reversing a NumPy array can be done using slicing techniques. Depending on whether you want to reverse a 1D or 2D array, the approach differs slightly. Here are methods for reversing arrays along different axes, along with examples.\n",
    "\n",
    "Reversing a 1D Array\n",
    "For a 1D array, you can simply use slicing with the step -1.\n",
    "\n",
    "Example:"
   ]
  },
  {
   "cell_type": "code",
   "execution_count": null,
   "metadata": {},
   "outputs": [],
   "source": [
    "import numpy as np\n",
    "\n",
    "# Create a 1D array\n",
    "array_1d = np.array([1, 2, 3, 4, 5])\n",
    "\n",
    "# Reverse the array\n",
    "reversed_1d = array_1d[::-1]\n",
    "print(reversed_1d)  # Output: [5 4 3 2 1]\n"
   ]
  },
  {
   "cell_type": "markdown",
   "metadata": {},
   "source": [
    "Reversing a 2D Array\n",
    "For a 2D array, you can reverse the array along specific axes. You can reverse along rows (axis 0) or columns (axis 1).\n",
    "\n",
    "Example of Reversing Along Rows (Axis 0)"
   ]
  },
  {
   "cell_type": "code",
   "execution_count": null,
   "metadata": {},
   "outputs": [],
   "source": [
    "# Create a 2D array\n",
    "array_2d = np.array([[1, 2, 3],\n",
    "                     [4, 5, 6],\n",
    "                     [7, 8, 9]])\n",
    "\n",
    "# Reverse the array along rows (axis 0)\n",
    "reversed_rows = array_2d[::-1, :]\n",
    "print(reversed_rows)\n",
    "# Output:\n",
    "# [[7 8 9]\n",
    "#  [4 5 6]\n",
    "#  [1 2 3]]\n"
   ]
  },
  {
   "cell_type": "markdown",
   "metadata": {},
   "source": [
    "Example of Reversing Along Columns (Axis 1)"
   ]
  },
  {
   "cell_type": "code",
   "execution_count": null,
   "metadata": {},
   "outputs": [],
   "source": [
    "# Reverse the array along columns (axis 1)\n",
    "reversed_columns = array_2d[:, ::-1]\n",
    "print(reversed_columns)\n",
    "# Output:\n",
    "# [[3 2 1]\n",
    "#  [6 5 4]\n",
    "#  [9 8 7]]\n"
   ]
  },
  {
   "cell_type": "markdown",
   "metadata": {},
   "source": [
    "Summary\n",
    "For 1D arrays, you can reverse the array using array[::-1].\n",
    "For 2D arrays, use:\n",
    "array[::-1, :] to reverse along rows (axis 0).\n",
    "array[:, ::-1] to reverse along columns (axis 1).\n",
    "These methods utilize NumPy’s slicing capabilities, allowing for efficient and straightforward array manipulation.\n",
    "\n",
    "\n",
    "\n"
   ]
  },
  {
   "cell_type": "markdown",
   "metadata": {},
   "source": [
    " 4. How can you determine the data type of elements in a NumPy array? Discuss the importance of data types in memory management and performance.\n",
    "\n",
    " Ans: In NumPy, you can determine the data type of the elements in an array using the .dtype attribute. Here’s how you can do it and a discussion on the importance of data types in memory management and performance.\n",
    "\n",
    "Determining Data Type\n",
    "To check the data type of elements in a NumPy array, you can use the following approach:\n",
    "\n",
    "Example:"
   ]
  },
  {
   "cell_type": "code",
   "execution_count": null,
   "metadata": {},
   "outputs": [],
   "source": [
    "import numpy as np\n",
    "\n",
    "# Create a NumPy array\n",
    "array = np.array([1, 2, 3, 4])\n",
    "\n",
    "# Determine the data type\n",
    "data_type = array.dtype\n",
    "print(data_type)  # Output: int64 (or int32, depending on the system)\n"
   ]
  },
  {
   "cell_type": "markdown",
   "metadata": {},
   "source": [
    "You can also create an array with a specific data type by using the dtype parameter during array creation:"
   ]
  },
  {
   "cell_type": "code",
   "execution_count": null,
   "metadata": {},
   "outputs": [],
   "source": [
    "# Create an array with a specified data type\n",
    "array_float = np.array([1, 2, 3], dtype=np.float32)\n",
    "print(array_float.dtype)  # Output: float32\n"
   ]
  },
  {
   "cell_type": "markdown",
   "metadata": {},
   "source": [
    "Importance of Data Types\n",
    "Memory Management:\n",
    "\n",
    "Different data types consume different amounts of memory. For instance, an int32 takes up 4 bytes, while an int64 takes 8 bytes. Choosing the appropriate data type can help optimize memory usage, especially when dealing with large datasets.\n",
    "Using smaller data types (like float32 instead of float64) can significantly reduce memory consumption while still providing adequate precision for many applications.\n",
    "Performance:\n",
    "\n",
    "Operations on arrays with smaller data types often execute faster due to reduced data transfer and processing overhead. For example, arithmetic operations on int8 arrays are generally quicker than on int64 arrays because less data is processed.\n",
    "Additionally, some NumPy functions are optimized for specific data types. Using the correct data type can take advantage of these optimizations, leading to faster computation times.\n",
    "Data Integrity:\n",
    "\n",
    "Using the appropriate data type helps ensure data integrity. For example, if you have an array of counts, using an int type makes more sense than using a floating-point type, as counts are inherently whole numbers.\n",
    "Incorrect data types can lead to unexpected results, such as integer overflow when the data type cannot hold the range of values.\n",
    "\n",
    "\n",
    "\n",
    "Summary\n",
    "In summary, determining the data type of elements in a NumPy array is straightforward using the .dtype attribute. Choosing the appropriate data type is crucial for efficient memory management and optimal performance in numerical computations, ensuring both speed and integrity in your data processing tasks.\n",
    "\n",
    "\n",
    "\n",
    "\n",
    "\n",
    "\n"
   ]
  },
  {
   "cell_type": "markdown",
   "metadata": {},
   "source": [
    " 5. Define ndarrays in NumPy and explain their key features. How do they differ from standard Python lists?\n",
    "\n",
    " Ans: In NumPy, **ndarrays** (N-dimensional arrays) are the core data structure used for storing and manipulating large datasets efficiently. They provide a powerful and flexible way to handle multi-dimensional data. Here’s an overview of ndarrays and their key features, along with a comparison to standard Python lists.\n",
    "\n",
    "### Key Features of ndarrays\n",
    "\n",
    "1. **Homogeneous Data**:\n",
    "   - All elements in an ndarray are of the same data type, which allows for optimized storage and performance. This contrasts with Python lists, which can contain elements of varying types.\n",
    "\n",
    "2. **Multi-dimensional**:\n",
    "   - ndarrays can have any number of dimensions (1D, 2D, 3D, etc.), enabling representation of complex data structures such as matrices and tensors. This is more flexible than Python lists, which can become unwieldy for higher-dimensional data.\n",
    "\n",
    "3. **Efficient Memory Usage**:\n",
    "   - ndarrays are more memory-efficient than Python lists because they use a contiguous block of memory. This allows NumPy to reduce the overhead associated with storing multiple data types in lists.\n",
    "\n",
    "4. **Vectorized Operations**:\n",
    "   - NumPy supports element-wise operations on ndarrays without the need for explicit loops. This vectorization leads to faster computation and simpler code.\n",
    "\n",
    "5. **Broadcasting**:\n",
    "   - NumPy allows operations on arrays of different shapes through a feature called broadcasting, which automatically expands the smaller array to match the shape of the larger one. This is not natively supported in Python lists.\n",
    "\n",
    "6. **Rich Functionality**:\n",
    "   - ndarrays come with a wide array of built-in functions for mathematical operations, statistical analysis, linear algebra, and more, enabling complex data manipulation and analysis.\n",
    "\n",
    "7. **Advanced Indexing and Slicing**:\n",
    "   - NumPy provides sophisticated techniques for accessing and modifying data, such as boolean indexing and advanced slicing, which are more limited in Python lists.\n",
    "\n",
    "### Differences from Standard Python Lists\n",
    "\n",
    "1. **Data Type**:\n",
    "   - **ndarrays**: Homogeneous (all elements must be of the same type).\n",
    "   - **Python Lists**: Heterogeneous (elements can be of different types).\n",
    "\n",
    "2. **Performance**:\n",
    "   - **ndarrays**: More efficient for numerical operations due to optimized performance, leveraging low-level C and Fortran implementations.\n",
    "   - **Python Lists**: Slower for numerical tasks, especially when dealing with large datasets.\n",
    "\n",
    "3. **Functionality**:\n",
    "   - **ndarrays**: Equipped with a vast library of mathematical functions and methods for advanced data manipulation.\n",
    "   - **Python Lists**: Basic functionality; for advanced operations, you would need to use loops or other libraries.\n",
    "\n",
    "4. **Memory Management**:\n",
    "   - **ndarrays**: Use contiguous memory allocation, leading to better memory usage and access speed.\n",
    "   - **Python Lists**: Use dynamic memory allocation, which can lead to overhead and fragmentation.\n",
    "\n",
    "5. **Dimensionality**:\n",
    "   - **ndarrays**: Can easily represent multi-dimensional data (2D matrices, 3D tensors, etc.).\n",
    "   - **Python Lists**: While you can create nested lists to represent multi-dimensional data, it’s not as straightforward or efficient.\n",
    "\n",
    "### Summary\n",
    "ndarrays in NumPy are powerful, efficient structures for handling numerical data, with features designed to optimize performance and memory usage. They differ significantly from standard Python lists in terms of data type homogeneity, performance, and functionality, making them essential for scientific computing and data analysis tasks."
   ]
  },
  {
   "cell_type": "markdown",
   "metadata": {},
   "source": [
    "6. Analyze the performance benefits of NumPy arrays over Python lists for large-scale numerical operations.\n",
    "\n",
    "Ans: NumPy arrays offer significant performance benefits over standard Python lists, especially when it comes to large-scale numerical operations. Here’s an analysis of these benefits:\n",
    "\n",
    "1. Memory Efficiency\n",
    "Contiguous Memory Allocation: NumPy arrays are stored in contiguous blocks of memory, which minimizes memory overhead and allows for more efficient use of cache memory. In contrast, Python lists store pointers to objects, which can lead to fragmentation and increased memory usage.\n",
    "Homogeneous Data Types: Since all elements in a NumPy array are of the same type, NumPy can use a fixed amount of memory for each element. This uniformity allows for tighter packing of data, whereas Python lists can contain objects of varying sizes, increasing the memory footprint.\n",
    "2. Performance of Operations\n",
    "Vectorized Operations: NumPy allows for element-wise operations without the need for explicit loops. This vectorization leverages low-level optimizations and enables faster execution of operations. For example, adding two arrays element-wise can be done in a single operation with NumPy, while a Python list would require an explicit loop."
   ]
  },
  {
   "cell_type": "code",
   "execution_count": null,
   "metadata": {},
   "outputs": [],
   "source": [
    "import numpy as np\n",
    "\n",
    "# NumPy array addition\n",
    "a = np.array([1, 2, 3])\n",
    "b = np.array([4, 5, 6])\n",
    "c = a + b  # Fast, vectorized operation\n",
    "\n",
    "# Python list addition\n",
    "list_a = [1, 2, 3]\n",
    "list_b = [4, 5, 6]\n",
    "c_list = [x + y for x, y in zip(list_a, list_b)]  # Slower, explicit loop\n"
   ]
  },
  {
   "cell_type": "markdown",
   "metadata": {},
   "source": [
    "3. Reduced Overhead\n",
    "Fewer Function Calls: NumPy functions are implemented in C, leading to reduced overhead compared to Python functions. Operations on NumPy arrays are executed in compiled code, which is significantly faster than the interpreted code of Python lists.\n",
    "Batch Processing: NumPy allows for operations to be applied to entire arrays at once, which can reduce the number of function calls and improve performance.\n",
    "4. Broadcasting\n",
    "Automatic Expansion: NumPy's broadcasting feature allows for operations between arrays of different shapes, automatically expanding the smaller array to match the larger one. This capability can eliminate the need for manual replication of data, which would be computationally expensive and time-consuming with Python lists.\n",
    "5. Optimized Mathematical Functions\n",
    "Built-in Functions: NumPy provides a vast library of optimized mathematical functions (e.g., for linear algebra, Fourier transforms, and statistical calculations) that are specifically designed for performance. These functions operate on entire arrays at once, making them significantly faster than performing equivalent operations on Python lists.\n",
    "6. Parallelization\n",
    "Support for Multithreading: NumPy can take advantage of multi-core processors for certain operations, further enhancing performance on large datasets. Operations on Python lists, by contrast, are typically single-threaded unless explicitly parallelized through additional libraries.\n",
    "Summary\n",
    "Overall, NumPy arrays are designed for high performance with large-scale numerical operations. They provide improved memory efficiency, faster computation through vectorization, reduced overhead, and access to a rich set of optimized mathematical functions. These factors make NumPy the preferred choice for scientific computing, data analysis, and any application requiring heavy numerical computation compared to standard Python lists.\n",
    "\n",
    "\n",
    "\n",
    "\n"
   ]
  },
  {
   "cell_type": "markdown",
   "metadata": {},
   "source": [
    "7. Compare vstack() and hstack() functions in NumPy. Provide examples demonstrating their usage and output.\n",
    "\n",
    "Ans: The vstack() and hstack() functions in NumPy are used to stack arrays vertically and horizontally, respectively. Here’s a comparison of the two functions, along with examples to demonstrate their usage.\n",
    "\n",
    "vstack()\n",
    "Purpose: Stacks arrays in sequence vertically (row-wise).\n",
    "Input: It takes a tuple of arrays and concatenates them along the first axis (axis 0).\n",
    "Requirement: All input arrays must have the same shape along all dimensions except for the first one.\n",
    "Example of vstack()"
   ]
  },
  {
   "cell_type": "code",
   "execution_count": null,
   "metadata": {},
   "outputs": [],
   "source": [
    "import numpy as np\n",
    "\n",
    "# Create two 2D arrays\n",
    "array1 = np.array([[1, 2, 3],\n",
    "                   [4, 5, 6]])\n",
    "\n",
    "array2 = np.array([[7, 8, 9],\n",
    "                   [10, 11, 12]])\n",
    "\n",
    "# Stack the arrays vertically\n",
    "result_vstack = np.vstack((array1, array2))\n",
    "print(\"vstack result:\")\n",
    "print(result_vstack)\n"
   ]
  },
  {
   "cell_type": "markdown",
   "metadata": {},
   "source": [
    "Output:"
   ]
  },
  {
   "cell_type": "code",
   "execution_count": null,
   "metadata": {},
   "outputs": [],
   "source": [
    "vstack result:\n",
    "[[ 1  2  3]\n",
    " [ 4  5  6]\n",
    " [ 7  8  9]\n",
    " [10 11 12]]\n"
   ]
  },
  {
   "cell_type": "markdown",
   "metadata": {},
   "source": [
    "hstack()\n",
    "Purpose: Stacks arrays in sequence horizontally (column-wise).\n",
    "Input: It also takes a tuple of arrays and concatenates them along the second axis (axis 1).\n",
    "Requirement: All input arrays must have the same shape along all dimensions except for the second one.\n",
    "Example of hstack()"
   ]
  },
  {
   "cell_type": "code",
   "execution_count": null,
   "metadata": {},
   "outputs": [],
   "source": [
    "# Stack the arrays horizontally\n",
    "result_hstack = np.hstack((array1, array2))\n",
    "print(\"hstack result:\")\n",
    "print(result_hstack)\n"
   ]
  },
  {
   "cell_type": "markdown",
   "metadata": {},
   "source": [
    "Output:"
   ]
  },
  {
   "cell_type": "code",
   "execution_count": null,
   "metadata": {},
   "outputs": [],
   "source": [
    "hstack result:\n",
    "[[ 1  2  3  7  8  9]\n",
    " [ 4  5  6 10 11 12]]\n"
   ]
  },
  {
   "cell_type": "markdown",
   "metadata": {},
   "source": [
    "Summary of Differences\n",
    "vstack() stacks arrays vertically (adding rows) and increases the number of rows.\n",
    "hstack() stacks arrays horizontally (adding columns) and increases the number of columns.\n",
    "These functions provide a convenient way to combine multiple arrays into a single array, making them useful for various data manipulation tasks in NumPy."
   ]
  },
  {
   "cell_type": "markdown",
   "metadata": {},
   "source": [
    " 8. Explain the differences between fliplr() and flipud() methods in NumPy, including their effects on various array dimensions.\n",
    "\n",
    " Ans: In NumPy, the fliplr() and flipud() methods are used to flip arrays along different axes. Here's a detailed explanation of their differences and effects on various array dimensions:\n",
    "\n",
    "fliplr()\n",
    "Purpose: Flips an array from left to right.\n",
    "Axis: It operates along the second axis (axis 1), which corresponds to the columns of the array.\n",
    "Effect: For 2D arrays, it reverses the order of the columns. For 1D arrays, it has no effect because there are no columns to flip.\n",
    "Example of fliplr()"
   ]
  },
  {
   "cell_type": "code",
   "execution_count": null,
   "metadata": {},
   "outputs": [],
   "source": [
    "import numpy as np\n",
    "\n",
    "# Create a 2D array\n",
    "array_2d = np.array([[1, 2, 3],\n",
    "                     [4, 5, 6]])\n",
    "\n",
    "# Flip the array left to right\n",
    "flipped_lr = np.fliplr(array_2d)\n",
    "print(\"fliplr result:\")\n",
    "print(flipped_lr)\n"
   ]
  },
  {
   "cell_type": "markdown",
   "metadata": {},
   "source": [
    "Output:"
   ]
  },
  {
   "cell_type": "code",
   "execution_count": null,
   "metadata": {},
   "outputs": [],
   "source": [
    "fliplr result:\n",
    "[[3 2 1]\n",
    " [6 5 4]]\n"
   ]
  },
  {
   "cell_type": "markdown",
   "metadata": {},
   "source": [
    "flipud()\n",
    "Purpose: Flips an array from up to down.\n",
    "Axis: It operates along the first axis (axis 0), which corresponds to the rows of the array.\n",
    "Effect: For 2D arrays, it reverses the order of the rows. For 1D arrays, it has no effect, as there are no rows to flip.\n",
    "Example of flipud()"
   ]
  },
  {
   "cell_type": "code",
   "execution_count": null,
   "metadata": {},
   "outputs": [],
   "source": [
    "# Flip the array up to down\n",
    "flipped_ud = np.flipud(array_2d)\n",
    "print(\"flipud result:\")\n",
    "print(flipped_ud)\n"
   ]
  },
  {
   "cell_type": "markdown",
   "metadata": {},
   "source": [
    "Output:"
   ]
  },
  {
   "cell_type": "code",
   "execution_count": null,
   "metadata": {},
   "outputs": [],
   "source": [
    "flipud result:\n",
    "[[4 5 6]\n",
    " [1 2 3]]\n"
   ]
  },
  {
   "cell_type": "markdown",
   "metadata": {},
   "source": [
    "Summary of Differences\n",
    "Direction of Flip:\n",
    "\n",
    "fliplr(): Flips arrays left to right (along columns).\n",
    "flipud(): Flips arrays up to down (along rows).\n",
    "Effect on Array Dimensions:\n",
    "\n",
    "Both methods primarily affect 2D arrays. For 1D arrays, neither has any effect.\n",
    "In a 2D array, fliplr() changes the order of elements in each row, while flipud() changes the order of the rows themselves.\n",
    "Examples with Higher Dimensions\n",
    "For 3D arrays, fliplr() flips along the last dimension (the columns of each 2D slice), while flipud() flips along the first dimension (the rows of each 2D slice).\n",
    "This behavior continues for higher-dimensional arrays, where the flipping will occur along the specified axes.\n",
    "These functions are useful for data manipulation tasks, such as image processing or rearranging data in specific ways for analysis.\n",
    "\n",
    "\n",
    "\n"
   ]
  },
  {
   "cell_type": "markdown",
   "metadata": {},
   "source": [
    " 9. Discuss the functionality of the array_split() method in NumPy. How does it handle uneven splits?\n",
    "\n",
    " Ans: The array_split() method in NumPy is a versatile function used to split an array into multiple sub-arrays. Here’s an overview of its functionality and how it manages uneven splits:\n",
    "\n",
    "Functionality of array_split()\n",
    "Purpose: To divide an array into multiple sub-arrays along a specified axis.\n",
    "Syntax:"
   ]
  },
  {
   "cell_type": "code",
   "execution_count": null,
   "metadata": {},
   "outputs": [],
   "source": [
    "numpy.array_split(ary, indices_or_sections, axis=0)\n"
   ]
  },
  {
   "cell_type": "markdown",
   "metadata": {},
   "source": [
    "ary: The input array to be split.\n",
    "indices_or_sections: This can either be an integer (specifying the number of equal splits) or a list of indices (specifying where to split).\n",
    "axis: The axis along which to split the array (default is 0).\n",
    "Key Features\n",
    "Uneven Splits: Unlike split(), which requires equal-sized splits, array_split() can handle cases where the array cannot be evenly divided. It will distribute the elements as evenly as possible, with any remainder going into the first few sub-arrays.\n",
    "\n",
    "Return Value: It returns a list of sub-arrays.\n",
    "\n",
    "Handling Uneven Splits\n",
    "When you specify the number of splits that does not evenly divide the array length, array_split() handles this by:\n",
    "\n",
    "Creating as many equally-sized sub-arrays as possible.\n",
    "Assigning any remaining elements to the initial sub-arrays until all elements are distributed.\n",
    "Example of Uneven Splits"
   ]
  },
  {
   "cell_type": "code",
   "execution_count": null,
   "metadata": {},
   "outputs": [],
   "source": [
    "import numpy as np\n",
    "\n",
    "# Create a 1D array\n",
    "array = np.array([1, 2, 3, 4, 5, 6, 7])\n",
    "\n",
    "# Split the array into 3 parts\n",
    "split_arrays = np.array_split(array, 3)\n",
    "print(\"Result of array_split:\")\n",
    "for i, sub_array in enumerate(split_arrays):\n",
    "    print(f\"Sub-array {i}: {sub_array}\")\n"
   ]
  },
  {
   "cell_type": "code",
   "execution_count": null,
   "metadata": {},
   "outputs": [],
   "source": [
    "Result of array_split:\n",
    "Sub-array 0: [1 2 3]\n",
    "Sub-array 1: [4 5]\n",
    "Sub-array 2: [6 7]\n"
   ]
  },
  {
   "cell_type": "markdown",
   "metadata": {},
   "source": [
    "In this example:\n",
    "\n",
    "The original array has 7 elements.\n",
    "When splitting into 3 parts, the first sub-array contains 3 elements, the second contains 2 elements, and the third contains the remaining 2 elements.\n",
    "Summary\n",
    "Flexible Splitting: array_split() allows for flexible partitioning of arrays, accommodating uneven distributions without error.\n",
    "Convenient for Various Use Cases: This functionality is particularly useful when dealing with datasets where the total number of elements may not be divisible by the desired number of splits, such as when processing batches of data or handling uneven distributions in data analysis tasks.\n",
    "\n",
    "\n"
   ]
  },
  {
   "cell_type": "markdown",
   "metadata": {},
   "source": [
    "10. Explain the concepts of vectorization and broadcasting in NumPy. How do they contribute to efficient array operations?\n",
    "\n",
    "Ans: Vectorization and broadcasting are two fundamental concepts in NumPy that significantly enhance the efficiency of array operations. Here’s an explanation of each concept and how they contribute to performance improvements:\n",
    "\n",
    "Vectorization\n",
    "Definition: Vectorization refers to the process of applying operations to entire arrays (or large chunks of data) at once, rather than using explicit loops to iterate over elements. This approach leverages low-level optimizations and compiled code, allowing for faster execution.\n",
    "\n",
    "Key Features:\n",
    "\n",
    "Efficiency: By avoiding explicit Python loops, vectorization minimizes overhead and takes advantage of highly optimized C and Fortran routines in NumPy.\n",
    "Conciseness: Vectorized operations lead to cleaner, more readable code. Instead of writing multiple lines of code to handle each element, you can perform operations in a single line.\n",
    "Example:"
   ]
  },
  {
   "cell_type": "code",
   "execution_count": null,
   "metadata": {},
   "outputs": [],
   "source": [
    "import numpy as np\n",
    "\n",
    "# Create two large arrays\n",
    "a = np.random.rand(1000000)\n",
    "b = np.random.rand(1000000)\n",
    "\n",
    "# Vectorized addition\n",
    "c = a + b  # This adds the two arrays element-wise in a single operation\n"
   ]
  },
  {
   "cell_type": "markdown",
   "metadata": {},
   "source": [
    "In this example, a + b performs element-wise addition without the need for a loop, resulting in faster execution.\n",
    "\n",
    "Broadcasting\n",
    "Definition: Broadcasting is a powerful mechanism that allows NumPy to perform arithmetic operations on arrays of different shapes and sizes. It automatically expands the smaller array along the axes where the dimensions differ, enabling element-wise operations even when the arrays don't have the same shape.\n",
    "\n",
    "Key Features:\n",
    "\n",
    "Automatic Alignment: When performing operations, NumPy compares the shapes of the arrays involved. If they are compatible, broadcasting adjusts the shapes to enable element-wise operations.\n",
    "Memory Efficiency: Broadcasting does not create copies of the data. Instead, it creates a view of the original data, which minimizes memory usage.\n",
    "Rules for Broadcasting:\n",
    "\n",
    "If the arrays have different numbers of dimensions, the smaller-dimensional array is padded with ones on the left side.\n",
    "If the dimensions are equal, the operation proceeds as usual.\n",
    "If one of the dimensions is 1, it is stretched to match the other dimension.\n",
    "Example:"
   ]
  },
  {
   "cell_type": "code",
   "execution_count": null,
   "metadata": {},
   "outputs": [],
   "source": [
    "# Create a 2D array and a 1D array\n",
    "array_2d = np.array([[1, 2, 3],\n",
    "                     [4, 5, 6]])\n",
    "\n",
    "array_1d = np.array([10, 20, 30])\n",
    "\n",
    "# Broadcasting: adding a 1D array to a 2D array\n",
    "result = array_2d + array_1d\n",
    "print(result)\n"
   ]
  },
  {
   "cell_type": "markdown",
   "metadata": {},
   "source": [
    "Output:"
   ]
  },
  {
   "cell_type": "code",
   "execution_count": null,
   "metadata": {},
   "outputs": [],
   "source": [
    "[[11 22 33]\n",
    " [14 25 36]]\n"
   ]
  },
  {
   "cell_type": "markdown",
   "metadata": {},
   "source": [
    "In this example, the 1D array is broadcasted across the rows of the 2D array, allowing for element-wise addition without the need for explicit replication of the 1D array.\n",
    "\n",
    "Contribution to Efficient Array Operations\n",
    "Performance: Both vectorization and broadcasting reduce execution time by leveraging optimized, low-level implementations. This is especially important for large datasets, where the performance difference between vectorized operations and traditional looping can be significant.\n",
    "\n",
    "Simplicity: They lead to cleaner and more maintainable code. Instead of complex loops, you can express operations in a straightforward manner, making the code easier to read and debug.\n",
    "\n",
    "Memory Management: Broadcasting allows operations on arrays of different shapes without the overhead of creating large temporary arrays, which conserves memory.\n",
    "\n",
    "Summary\n",
    "Vectorization and broadcasting are key features of NumPy that enhance the performance and efficiency of numerical computations. By applying operations to entire arrays and enabling flexible shape compatibility, they make it possible to write concise, high-performance code for data manipulation and analysis."
   ]
  },
  {
   "cell_type": "markdown",
   "metadata": {},
   "source": [
    "                                             Practical Questions"
   ]
  },
  {
   "cell_type": "markdown",
   "metadata": {},
   "source": [
    " 1. Create a 3x3 NumPy array with random integers between 1 and 100. Then, interchange its rows and columns.\n",
    "\n",
    " Ans: You can create a 3x3 NumPy array with random integers between 1 and 100 using the np.random.randint() function. To interchange (or transpose) its rows and columns, you can use the .T attribute or the np.transpose() function. Here’s how you can do it:"
   ]
  },
  {
   "cell_type": "code",
   "execution_count": null,
   "metadata": {},
   "outputs": [],
   "source": [
    "import numpy as np\n",
    "\n",
    "# Create a 3x3 array with random integers between 1 and 100\n",
    "array_3x3 = np.random.randint(1, 101, size=(3, 3))\n",
    "print(\"Original array:\")\n",
    "print(array_3x3)\n",
    "\n",
    "# Interchange rows and columns (transpose the array)\n",
    "transposed_array = array_3x3.T\n",
    "print(\"\\nTransposed array:\")\n",
    "print(transposed_array)\n"
   ]
  },
  {
   "cell_type": "markdown",
   "metadata": {},
   "source": [
    "Example Output:"
   ]
  },
  {
   "cell_type": "code",
   "execution_count": null,
   "metadata": {},
   "outputs": [],
   "source": [
    "Original array:\n",
    "[[42 18 63]\n",
    " [ 7 30 80]\n",
    " [95 37 12]]\n",
    "\n",
    "Transposed array:\n",
    "[[42  7 95]\n",
    " [18 30 37]\n",
    " [63 80 12]]\n"
   ]
  },
  {
   "cell_type": "markdown",
   "metadata": {},
   "source": [
    "In this example:\n",
    "\n",
    "A 3x3 array of random integers between 1 and 100 is created.\n",
    "The array is then transposed, interchanging its rows and columns."
   ]
  },
  {
   "cell_type": "markdown",
   "metadata": {},
   "source": [
    " 2. Generate a 1D NumPy array with 10 elements. Reshape it into a 2x5 array, then into a 5x2 array.\n",
    "\n",
    " Ans: You can create a 1D NumPy array with 10 elements and then reshape it into a 2x5 array and a 5x2 array using the reshape() method. Here's how to do it:"
   ]
  },
  {
   "cell_type": "code",
   "execution_count": null,
   "metadata": {},
   "outputs": [],
   "source": [
    "import numpy as np\n",
    "\n",
    "# Generate a 1D NumPy array with 10 elements\n",
    "array_1d = np.arange(10)  # This creates an array with elements from 0 to 9\n",
    "print(\"Original 1D array:\")\n",
    "print(array_1d)\n",
    "\n",
    "# Reshape it into a 2x5 array\n",
    "array_2x5 = array_1d.reshape(2, 5)\n",
    "print(\"\\nReshaped into 2x5 array:\")\n",
    "print(array_2x5)\n",
    "\n",
    "# Reshape it into a 5x2 array\n",
    "array_5x2 = array_1d.reshape(5, 2)\n",
    "print(\"\\nReshaped into 5x2 array:\")\n",
    "print(array_5x2)\n"
   ]
  },
  {
   "cell_type": "markdown",
   "metadata": {},
   "source": [
    "Example Output:"
   ]
  },
  {
   "cell_type": "code",
   "execution_count": null,
   "metadata": {},
   "outputs": [],
   "source": [
    "Original 1D array:\n",
    "[0 1 2 3 4 5 6 7 8 9]\n",
    "\n",
    "Reshaped into 2x5 array:\n",
    "[[0 1 2 3 4]\n",
    " [5 6 7 8 9]]\n",
    "\n",
    "Reshaped into 5x2 array:\n",
    "[[0 1]\n",
    " [2 3]\n",
    " [4 5]\n",
    " [6 7]\n",
    " [8 9]]\n"
   ]
  },
  {
   "cell_type": "markdown",
   "metadata": {},
   "source": [
    "In this example:\n",
    "\n",
    "The original 1D array contains integers from 0 to 9.\n",
    "It is then reshaped first into a 2x5 array and subsequently into a 5x2 array, demonstrating the flexibility of reshaping in NumPy.\n",
    "\n",
    "\n"
   ]
  },
  {
   "cell_type": "markdown",
   "metadata": {},
   "source": [
    " 3. Create a 4x4 NumPy array with random float values. Add a border of zeros around it, resulting in a 6x6 array.\n",
    "\n",
    "Ans: You can create a 4x4 NumPy array with random float values using np.random.rand(), and then add a border of zeros around it using np.pad(). Here's how to do this:"
   ]
  },
  {
   "cell_type": "code",
   "execution_count": null,
   "metadata": {},
   "outputs": [],
   "source": [
    "import numpy as np\n",
    "\n",
    "# Create a 4x4 array with random float values\n",
    "array_4x4 = np.random.rand(4, 4)\n",
    "print(\"Original 4x4 array:\")\n",
    "print(array_4x4)\n",
    "\n",
    "# Add a border of zeros around the array\n",
    "array_with_border = np.pad(array_4x4, pad_width=1, mode='constant', constant_values=0)\n",
    "print(\"\\n6x6 array with a border of zeros:\")\n",
    "print(array_with_border)\n"
   ]
  },
  {
   "cell_type": "markdown",
   "metadata": {},
   "source": [
    "Example Output:"
   ]
  },
  {
   "cell_type": "code",
   "execution_count": null,
   "metadata": {},
   "outputs": [],
   "source": [
    "Original 4x4 array:\n",
    "[[0.54207874 0.97151687 0.45370665 0.04412547]\n",
    " [0.95808058 0.71278074 0.77838812 0.63636864]\n",
    " [0.18080075 0.04918353 0.9058264  0.19727537]\n",
    " [0.50507415 0.66440762 0.32908526 0.89806929]]\n",
    "\n",
    "6x6 array with a border of zeros:\n",
    "[[0.         0.         0.         0.         0.         0.        ]\n",
    " [0.         0.54207874 0.97151687 0.45370665 0.04412547 0.        ]\n",
    " [0.         0.95808058 0.71278074 0.77838812 0.63636864 0.        ]\n",
    " [0.         0.18080075 0.04918353 0.9058264  0.19727537 0.        ]\n",
    " [0.         0.50507415 0.66440762 0.32908526 0.89806929 0.        ]\n",
    " [0.         0.         0.         0.         0.         0.        ]]\n"
   ]
  },
  {
   "cell_type": "markdown",
   "metadata": {},
   "source": [
    "In this example:\n",
    "\n",
    "A 4x4 array of random float values is created.\n",
    "The np.pad() function is used to add a border of zeros, resulting in a 6x6 array. The pad_width=1 argument specifies that a border of 1 unit is added around the original array. The mode='constant' with constant_values=0 specifies that the padding value is zero."
   ]
  },
  {
   "cell_type": "markdown",
   "metadata": {},
   "source": [
    "4. Using NumPy, create an array of integers from 10 to 60 with a step of 5.\n",
    "\n",
    "Ans: You can create an array of integers from 10 to 60 with a step of 5 using the np.arange() function in NumPy. Here’s how to do it:"
   ]
  },
  {
   "cell_type": "code",
   "execution_count": null,
   "metadata": {},
   "outputs": [],
   "source": [
    "import numpy as np\n",
    "\n",
    "# Create an array of integers from 10 to 60 with a step of 5\n",
    "array = np.arange(10, 61, 5)\n",
    "print(\"Array of integers from 10 to 60 with a step of 5:\")\n",
    "print(array)\n"
   ]
  },
  {
   "cell_type": "markdown",
   "metadata": {},
   "source": [
    "Example Output:"
   ]
  },
  {
   "cell_type": "code",
   "execution_count": null,
   "metadata": {},
   "outputs": [],
   "source": [
    "Array of integers from 10 to 60 with a step of 5:\n",
    "[10 15 20 25 30 35 40 45 50 55 60]\n"
   ]
  },
  {
   "cell_type": "markdown",
   "metadata": {},
   "source": [
    "In this example, np.arange(10, 61, 5) generates an array starting at 10 and ending at 60 (inclusive) with a step of 5."
   ]
  },
  {
   "cell_type": "markdown",
   "metadata": {},
   "source": [
    " 5. Create a NumPy array of strings ['python', 'numpy', 'pandas']. Apply different case transformations (uppercase, lowercase, title case, etc.) to each element.\n",
    "\n",
    " Ans: You can create a NumPy array of strings and then apply various case transformations using string methods provided by NumPy. Here’s how to do it:"
   ]
  },
  {
   "cell_type": "code",
   "execution_count": null,
   "metadata": {},
   "outputs": [],
   "source": [
    "import numpy as np\n",
    "\n",
    "# Create a NumPy array of strings\n",
    "string_array = np.array(['python', 'numpy', 'pandas'])\n",
    "\n",
    "# Apply different case transformations\n",
    "uppercase_array = np.char.upper(string_array)\n",
    "lowercase_array = np.char.lower(string_array)\n",
    "titlecase_array = np.char.title(string_array)\n",
    "\n",
    "# Display the results\n",
    "print(\"Original array:\")\n",
    "print(string_array)\n",
    "\n",
    "print(\"\\nUppercase transformation:\")\n",
    "print(uppercase_array)\n",
    "\n",
    "print(\"\\nLowercase transformation:\")\n",
    "print(lowercase_array)\n",
    "\n",
    "print(\"\\nTitle case transformation:\")\n",
    "print(titlecase_array)\n"
   ]
  },
  {
   "cell_type": "markdown",
   "metadata": {},
   "source": [
    "Example Output:"
   ]
  },
  {
   "cell_type": "code",
   "execution_count": null,
   "metadata": {},
   "outputs": [],
   "source": [
    "Original array:\n",
    "['python' 'numpy' 'pandas']\n",
    "\n",
    "Uppercase transformation:\n",
    "['PYTHON' 'NUMPY' 'PANDAS']\n",
    "\n",
    "Lowercase transformation:\n",
    "['python' 'numpy' 'pandas']\n",
    "\n",
    "Title case transformation:\n",
    "['Python' 'Numpy' 'Pandas']\n"
   ]
  },
  {
   "cell_type": "markdown",
   "metadata": {},
   "source": [
    "In this example:\n",
    "\n",
    "The original array contains the strings 'python', 'numpy', and 'pandas'.\n",
    "The np.char module is used to apply different case transformations: np.char.upper() for uppercase, np.char.lower() for lowercase, and np.char.title() for title case. Each transformation is applied to the entire array, demonstrating the power of NumPy's vectorized string operations."
   ]
  },
  {
   "cell_type": "markdown",
   "metadata": {},
   "source": [
    " 6. Generate a NumPy array of words. Insert a space between each character of every word in the array.\n",
    "\n",
    " Ans: You can generate a NumPy array of words and then insert a space between each character of every word using string operations. Here’s how to do it:"
   ]
  },
  {
   "cell_type": "code",
   "execution_count": null,
   "metadata": {},
   "outputs": [],
   "source": [
    "import numpy as np\n",
    "\n",
    "# Create a NumPy array of words\n",
    "words_array = np.array(['hello', 'numpy', 'array'])\n",
    "\n",
    "# Insert a space between each character of every word\n",
    "spaced_words_array = np.char.join(' ', words_array)\n",
    "\n",
    "# Display the results\n",
    "print(\"Original array of words:\")\n",
    "print(words_array)\n",
    "\n",
    "print(\"\\nWords with spaces between characters:\")\n",
    "print(spaced_words_array)\n"
   ]
  },
  {
   "cell_type": "markdown",
   "metadata": {},
   "source": [
    "Example Output:"
   ]
  },
  {
   "cell_type": "code",
   "execution_count": null,
   "metadata": {},
   "outputs": [],
   "source": [
    "Original array of words:\n",
    "['hello' 'numpy' 'array']\n",
    "\n",
    "Words with spaces between characters:\n",
    "['h e l l o' 'n u m p y' 'a r r a y']\n"
   ]
  },
  {
   "cell_type": "markdown",
   "metadata": {},
   "source": [
    "In this example:\n",
    "\n",
    "The original array contains the words 'hello', 'numpy', and 'array'.\n",
    "The np.char.join(' ', words_array) function is used to insert a space between each character of the words, resulting in a new array with the modified words.\n",
    "\n",
    "\n"
   ]
  },
  {
   "cell_type": "markdown",
   "metadata": {},
   "source": [
    "7. Create two 2D NumPy arrays and perform element-wise addition, subtraction, multiplication, and division.\n",
    "\n",
    "Ans: You can create two 2D NumPy arrays and then perform element-wise addition, subtraction, multiplication, and division using standard arithmetic operators. Here’s how to do it:"
   ]
  },
  {
   "cell_type": "code",
   "execution_count": null,
   "metadata": {},
   "outputs": [],
   "source": [
    "import numpy as np\n",
    "\n",
    "# Create two 2D NumPy arrays\n",
    "array1 = np.array([[1, 2, 3],\n",
    "                    [4, 5, 6]])\n",
    "\n",
    "array2 = np.array([[10, 20, 30],\n",
    "                    [40, 50, 60]])\n",
    "\n",
    "# Perform element-wise addition\n",
    "addition_result = array1 + array2\n",
    "\n",
    "# Perform element-wise subtraction\n",
    "subtraction_result = array1 - array2\n",
    "\n",
    "# Perform element-wise multiplication\n",
    "multiplication_result = array1 * array2\n",
    "\n",
    "# Perform element-wise division\n",
    "division_result = array1 / array2\n",
    "\n",
    "# Display the results\n",
    "print(\"Array 1:\")\n",
    "print(array1)\n",
    "\n",
    "print(\"\\nArray 2:\")\n",
    "print(array2)\n",
    "\n",
    "print(\"\\nElement-wise Addition:\")\n",
    "print(addition_result)\n",
    "\n",
    "print(\"\\nElement-wise Subtraction:\")\n",
    "print(subtraction_result)\n",
    "\n",
    "print(\"\\nElement-wise Multiplication:\")\n",
    "print(multiplication_result)\n",
    "\n",
    "print(\"\\nElement-wise Division:\")\n",
    "print(division_result)\n"
   ]
  },
  {
   "cell_type": "markdown",
   "metadata": {},
   "source": [
    "Example Output:"
   ]
  },
  {
   "cell_type": "code",
   "execution_count": null,
   "metadata": {},
   "outputs": [],
   "source": [
    "Array 1:\n",
    "[[1 2 3]\n",
    " [4 5 6]]\n",
    "\n",
    "Array 2:\n",
    "[[10 20 30]\n",
    " [40 50 60]]\n",
    "\n",
    "Element-wise Addition:\n",
    "[[11 22 33]\n",
    " [44 55 66]]\n",
    "\n",
    "Element-wise Subtraction:\n",
    "[[ -9 -18 -27]\n",
    " [-36 -45 -54]]\n",
    "\n",
    "Element-wise Multiplication:\n",
    "[[10 40 90]\n",
    " [160 250 360]]\n",
    "\n",
    "Element-wise Division:\n",
    "[[0.1        0.1        0.1       ]\n",
    " [0.1        0.1        0.1       ]]\n"
   ]
  },
  {
   "cell_type": "markdown",
   "metadata": {},
   "source": [
    "In this example:\n",
    "\n",
    "Two 2D arrays are created.\n",
    "Element-wise operations (addition, subtraction, multiplication, and division) are performed using the respective arithmetic operators.\n",
    "The results of each operation are displayed, showing how NumPy handles these operations efficiently on arrays."
   ]
  },
  {
   "cell_type": "markdown",
   "metadata": {},
   "source": [
    " 8. Use NumPy to create a 5x5 identity matrix, then extract its diagonal elements.\n",
    "\n",
    " Ans: You can create a 5x5 identity matrix using np.eye() and then extract its diagonal elements using np.diagonal(). Here’s how to do it:"
   ]
  },
  {
   "cell_type": "code",
   "execution_count": null,
   "metadata": {},
   "outputs": [],
   "source": [
    "import numpy as np\n",
    "\n",
    "# Create a 5x5 identity matrix\n",
    "identity_matrix = np.eye(5)\n",
    "print(\"5x5 Identity Matrix:\")\n",
    "print(identity_matrix)\n",
    "\n",
    "# Extract the diagonal elements\n",
    "diagonal_elements = np.diagonal(identity_matrix)\n",
    "print(\"\\nDiagonal Elements:\")\n",
    "print(diagonal_elements)\n"
   ]
  },
  {
   "cell_type": "markdown",
   "metadata": {},
   "source": [
    "Example Output:"
   ]
  },
  {
   "cell_type": "code",
   "execution_count": null,
   "metadata": {},
   "outputs": [],
   "source": [
    "5x5 Identity Matrix:\n",
    "[[1. 0. 0. 0. 0.]\n",
    " [0. 1. 0. 0. 0.]\n",
    " [0. 0. 1. 0. 0.]\n",
    " [0. 0. 0. 1. 0.]\n",
    " [0. 0. 0. 0. 1.]]\n",
    "\n",
    "Diagonal Elements:\n",
    "[1. 1. 1. 1. 1.]\n"
   ]
  },
  {
   "cell_type": "markdown",
   "metadata": {},
   "source": [
    "In this example:\n",
    "\n",
    "A 5x5 identity matrix is created, where the diagonal elements are all 1s and the rest are 0s.\n",
    "The diagonal elements are then extracted, resulting in an array of ones corresponding to the diagonal of the identity matrix.\n",
    "\n",
    "\n"
   ]
  },
  {
   "cell_type": "markdown",
   "metadata": {},
   "source": [
    " 9. Generate a NumPy array of 100 random integers between 0 and 1000. Find and display all prime numbers in this array.\n",
    "\n",
    " Ans: To generate a NumPy array of 100 random integers between 0 and 1000 and then find and display all the prime numbers from that array, you can use a helper function to check for primality. Here’s how to do it:"
   ]
  },
  {
   "cell_type": "code",
   "execution_count": null,
   "metadata": {},
   "outputs": [],
   "source": [
    "import numpy as np\n",
    "\n",
    "# Generate a NumPy array of 100 random integers between 0 and 1000\n",
    "random_integers = np.random.randint(0, 1001, size=100)\n",
    "print(\"Random integers:\")\n",
    "print(random_integers)\n",
    "\n",
    "# Function to check if a number is prime\n",
    "def is_prime(n):\n",
    "    if n <= 1:\n",
    "        return False\n",
    "    for i in range(2, int(n**0.5) + 1):\n",
    "        if n % i == 0:\n",
    "            return False\n",
    "    return True\n",
    "\n",
    "# Find all prime numbers in the array\n",
    "prime_numbers = np.array([num for num in random_integers if is_prime(num)])\n",
    "\n",
    "print(\"\\nPrime numbers in the array:\")\n",
    "print(prime_numbers)\n"
   ]
  },
  {
   "cell_type": "markdown",
   "metadata": {},
   "source": [
    "Example Output:"
   ]
  },
  {
   "cell_type": "code",
   "execution_count": null,
   "metadata": {},
   "outputs": [],
   "source": [
    "Random integers:\n",
    "[ 247  352  401  855  653  568  803  682  113  203 ...]  # (Sample output)\n",
    "\n",
    "Prime numbers in the array:\n",
    "[113  673  401  587]  # (Sample output)\n"
   ]
  },
  {
   "cell_type": "markdown",
   "metadata": {},
   "source": [
    "In this code:\n",
    "\n",
    "A NumPy array of 100 random integers between 0 and 1000 is created.\n",
    "A helper function is_prime() checks whether a number is prime by testing divisibility.\n",
    "A list comprehension is used to filter and collect all prime numbers from the array.\n",
    "Finally, the prime numbers are displayed. Note that the actual prime numbers will vary each time you run the code because of the randomness in the generated integers."
   ]
  },
  {
   "cell_type": "markdown",
   "metadata": {},
   "source": [
    " 10. Create a NumPy array representing daily temperatures for a month. Calculate and display the weekly averages.\n",
    "\n",
    "\n",
    "To create a NumPy array representing daily temperatures for a month and then calculate and display the weekly averages, you can follow these steps:\n",
    "\n",
    "Generate an array of temperatures for 30 days.\n",
    "Reshape this array into a 4-week format (with 7 days each) and then compute the weekly averages.\n",
    "Here’s how to do it:Ans: "
   ]
  },
  {
   "cell_type": "code",
   "execution_count": null,
   "metadata": {},
   "outputs": [],
   "source": [
    "import numpy as np\n",
    "\n",
    "# Create a NumPy array representing daily temperatures for 30 days\n",
    "daily_temperatures = np.random.uniform(low=15, high=35, size=30)  # Temperatures between 15 and 35 degrees\n",
    "print(\"Daily Temperatures for the Month:\")\n",
    "print(daily_temperatures)\n",
    "\n",
    "# Reshape the array to have 4 weeks (first 28 days)\n",
    "weekly_temperatures = daily_temperatures[:28].reshape(4, 7)\n",
    "\n",
    "# Calculate the weekly averages\n",
    "weekly_averages = np.mean(weekly_temperatures, axis=1)\n",
    "\n",
    "# Display the weekly averages\n",
    "print(\"\\nWeekly Averages:\")\n",
    "for week, avg in enumerate(weekly_averages, start=1):\n",
    "    print(f\"Week {week}: {avg:.2f}°C\")\n"
   ]
  },
  {
   "cell_type": "markdown",
   "metadata": {},
   "source": [
    "Example Output:"
   ]
  },
  {
   "cell_type": "code",
   "execution_count": null,
   "metadata": {},
   "outputs": [],
   "source": [
    "Daily Temperatures for the Month:\n",
    "[25.13 20.45 30.26 22.99 18.54 31.77 28.67 29.76 23.11 20.67 27.43 19.28\n",
    " 32.59 24.13 16.85 30.14 33.29 15.76 23.32 29.94 26.48 34.05 17.16 18.45\n",
    " 30.81 31.92 19.66 20.90 28.17 25.55 24.05 29.12]\n",
    "\n",
    "Weekly Averages:\n",
    "Week 1: 24.98°C\n",
    "Week 2: 24.34°C\n",
    "Week 3: 25.04°C\n",
    "Week 4: 23.84°C\n"
   ]
  },
  {
   "cell_type": "markdown",
   "metadata": {},
   "source": [
    "In this example:\n",
    "\n",
    "A 1D NumPy array of 30 daily temperatures is generated using np.random.uniform().\n",
    "The first 28 days of temperatures are reshaped into a 4x7 array representing 4 weeks.\n",
    "The weekly averages are calculated using np.mean() with axis=1 to get the average of each week.\n",
    "Finally, the weekly averages are displayed in a formatted manner. The specific temperatures will vary each time you run the code due to randomness."
   ]
  }
 ],
 "metadata": {
  "language_info": {
   "name": "python"
  }
 },
 "nbformat": 4,
 "nbformat_minor": 2
}
